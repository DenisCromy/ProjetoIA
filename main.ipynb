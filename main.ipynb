{
 "cells": [
  {
   "cell_type": "code",
   "execution_count": 3,
   "id": "ded41e8a",
   "metadata": {},
   "outputs": [],
   "source": [
    "import csv #importar biblioteca para leitura de csv\n",
    "import difflib\n",
    "\n",
    "def carregar_respostas(arquivo): #função para carregar e abrir o arquivo\n",
    "    respostas = {} #toda resposta vai virar parte do dicionario\n",
    "\n",
    "    with open(arquivo, 'r', encoding='utf-8') as n: #abre o arquivo que precisa e fecha quando solicitado ou solucionado\n",
    "        leitor = csv.DictReader(n) #cada linha vira um dicionario pergunta: \"oi\"; resposta: \"tudo bem?\"\n",
    "\n",
    "        for linha in leitor: #vai fazer a leitura de cada linha\n",
    "            # remover os espaços extras e transformar todas as letras em lowerscale (minusculo)\n",
    "            pergunta = linha['pergunta'].strip().lower() \n",
    "            resposta = linha['resposta'].strip()\n",
    "            respostas[pergunta] = resposta #copula como um dicionario\n",
    "    return respostas\n",
    "\n",
    "def responder(mensagem, respostas): #função para responder de acordo com a pergunta\n",
    "    mensagem = mensagem.lower().strip()\n",
    "    perguntas = list(respostas.keys())\n",
    "    parecidas = difflib.get_close_matches(mensagem, perguntas, n=1, cutoff=0.6)\n",
    "    print(parecidas)\n",
    "\n",
    "    if parecidas:\n",
    "        return respostas[parecidas[0]]\n",
    "    else:\n",
    "        #precisa ler outros aquivos para procurar a resposta e retornar corretamente \n",
    "        return \"Desculpe, não entendi o que você quis dizer.\""
   ]
  },
  {
   "cell_type": "code",
   "execution_count": 4,
   "id": "08f3507d",
   "metadata": {},
   "outputs": [
    {
     "name": "stdout",
     "output_type": "stream",
     "text": [
      "ChatBot: Olá! Digite 'sair' para encerrar.\n",
      "\n",
      "['oi']\n",
      "ChatBot: Oi! Tudo bem?\n",
      "['tudo bem']\n",
      "ChatBot: Que bom! Como posso te ajudar?\n",
      "ChatBot: Até mais!\n"
     ]
    }
   ],
   "source": [
    "respostas = carregar_respostas(\"data/iniciacao.csv\") # pré carrega em uma variavel um dicionario com tudo da função\n",
    "\n",
    "print(\"ChatBot: Olá! Digite 'sair' para encerrar.\\n\")\n",
    "\n",
    "while True:\n",
    "    usuario = input(\"Você: \") #entrada do usuario\n",
    "    if usuario.lower() == \"sair\": #inicia o codigo e mantem em lowerscale\n",
    "        print(\"ChatBot: Até mais!\")\n",
    "        break\n",
    "    print(\"ChatBot:\", responder(usuario, respostas)) #efetua o processo de analisar a res"
   ]
  }
 ],
 "metadata": {
  "kernelspec": {
   "display_name": "Python 3",
   "language": "python",
   "name": "python3"
  },
  "language_info": {
   "codemirror_mode": {
    "name": "ipython",
    "version": 3
   },
   "file_extension": ".py",
   "mimetype": "text/x-python",
   "name": "python",
   "nbconvert_exporter": "python",
   "pygments_lexer": "ipython3",
   "version": "3.12.1"
  }
 },
 "nbformat": 4,
 "nbformat_minor": 5
}
