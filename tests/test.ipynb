{
 "cells": [
  {
   "cell_type": "markdown",
   "id": "d1116d4d",
   "metadata": {},
   "source": [
    "Testar a abertura dos arquivos, se estão funcionando"
   ]
  },
  {
   "cell_type": "code",
   "execution_count": 8,
   "id": "876eb4a3",
   "metadata": {},
   "outputs": [
    {
     "name": "stdout",
     "output_type": "stream",
     "text": [
      "Arquivo respostas.csv criado com sucesso!\n"
     ]
    }
   ],
   "source": [
    "import csv\n",
    "\n",
    "dados = [\n",
    "    [\"pergunta\", \"resposta\"],\n",
    "    [\"oi\", \"Oi! Tudo bem?\"],\n",
    "    [\"tudo bem\", \"Que bom! Como posso te ajudar?\"],\n",
    "    [\"qual é o seu nome\", \"Eu sou um chatbot feito em Python!\"],\n",
    "    [\"tchau\", \"Até logo! Volte sempre!\"]\n",
    "]\n",
    "\n",
    "with open(\"../data/respostas.csv\", \"w\", newline=\"\", encoding=\"utf-8\") as f:\n",
    "    writer = csv.writer(f)\n",
    "    writer.writerows(dados)\n",
    "\n",
    "print(\"Arquivo respostas.csv criado com sucesso!\")"
   ]
  }
 ],
 "metadata": {
  "kernelspec": {
   "display_name": "Python 3",
   "language": "python",
   "name": "python3"
  },
  "language_info": {
   "codemirror_mode": {
    "name": "ipython",
    "version": 3
   },
   "file_extension": ".py",
   "mimetype": "text/x-python",
   "name": "python",
   "nbconvert_exporter": "python",
   "pygments_lexer": "ipython3",
   "version": "3.13.1"
  }
 },
 "nbformat": 4,
 "nbformat_minor": 5
}
