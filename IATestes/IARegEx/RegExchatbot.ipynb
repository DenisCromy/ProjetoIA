{
 "cells": [
  {
   "cell_type": "code",
   "execution_count": null,
   "id": "5b669938",
   "metadata": {},
   "outputs": [],
   "source": [
    "import csv\n",
    "import re\n",
    "from unidecode import unidecode\n",
    "\n",
    "def carregar_base(arquivo):\n",
    "    \"\"\"Carrega a base de perguntas e respostas\"\"\"\n",
    "    base = {}\n",
    "    with open(arquivo, 'r', encoding='utf-8') as arquivo_csv:\n",
    "        leitor = csv.DictReader(arquivo_csv)\n",
    "        for linha in leitor:\n",
    "            pergunta = unidecode(linha['pergunta'].strip().lower())\n",
    "            resposta = linha['resposta'].strip()\n",
    "            base[pergunta] = resposta\n",
    "    return base\n",
    "\n",
    "def responder(mensagem, respostas):\n",
    "    \"\"\"Sistema unificado de resposta - elimina redundâncias\"\"\"\n",
    "    # Processa a mensagem UMA ÚNICA VEZ\n",
    "    mensagem_processada = unidecode(mensagem.lower().strip())\n",
    "    \n",
    "    # SISTEMA ÚNICO: Regex e Busca Direta integrados\n",
    "    padroes_diretos = {\n",
    "        # Regex para variações criativas\n",
    "        r'^o+i+[!?]*$': 'oi',\n",
    "        r'^o+l+a+[!?]*$': 'oi', \n",
    "        r'^(e+\\s*)?a+e+[!?]*$': 'oi',\n",
    "        r'^o+p+a+[!?]*$': 'oi',\n",
    "        r'^t+c+h+a+u+[!?]*$': 'tchau',\n",
    "        r'^a+t+[ée]\\s*(l[oó]g[o0]|m[aá]is)[!?]*$': 'tchau',\n",
    "        r'^f+l+w+[!?]*$': 'tchau',\n",
    "        \n",
    "        # Busca por palavras-chave em mensagens mais longas\n",
    "        r'.*qual.*seu.*nome.*': 'qual e o seu nome',\n",
    "        r'.*como.*chama.*': 'qual e o seu nome', \n",
    "        r'.*tudo.*bem.*': 'tudo bem',\n",
    "        r'.*como.*esta.*': 'tudo bem',\n",
    "    }\n",
    "    \n",
    "    # 1. PRIMEIRO: Busca por padrões regex\n",
    "    for padrao, chave_resposta in padroes_diretos.items():\n",
    "        if re.search(padrao, mensagem_processada, re.IGNORECASE):\n",
    "            if chave_resposta in respostas:\n",
    "                return respostas[chave_resposta]\n",
    "    \n",
    "    # 2. SEGUNDO: Busca exata (fallback simples)\n",
    "    if mensagem_processada in respostas:\n",
    "        return respostas[mensagem_processada]\n",
    "    \n",
    "    # 3. ÚLTIMO: Resposta padrão\n",
    "    return \"Desculpe, não entendi. Pode reformular?\""
   ]
  },
  {
   "cell_type": "code",
   "execution_count": null,
   "id": "49952b2a",
   "metadata": {},
   "outputs": [],
   "source": [
    "respostas = carregar_base(\"data/iniciacao.csv\")\n",
    "\n",
    "print(\"ChatBot: Olá! Digite 'sair' para encerrar.\\n\")\n",
    "\n",
    "while True:\n",
    "    usuario = input(\"Você: \")\n",
    "    if usuario.lower() == \"sair\":\n",
    "        print(\"ChatBot: Até mais!\")\n",
    "        break\n",
    "    print(\"ChatBot:\", responder(usuario, respostas))"
   ]
  }
 ],
 "metadata": {
  "language_info": {
   "name": "python"
  }
 },
 "nbformat": 4,
 "nbformat_minor": 5
}
